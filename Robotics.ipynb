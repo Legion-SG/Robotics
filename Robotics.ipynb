{
 "cells": [
  {
   "cell_type": "code",
   "execution_count": 1,
   "metadata": {},
   "outputs": [],
   "source": [
    "from __future__ import print_function, division\n",
    "import numpy as np\n",
    "import sympy.physics.mechanics as me\n",
    "from sympy.physics.vector import init_vprinting\n",
    "init_vprinting(use_latex='mathjax', pretty_print=False)\n",
    "import sympy as sp\n",
    "from sympy import symbols,diff,Symbol\n",
    "from sympy.physics.mechanics import (dynamicsymbols, ReferenceFrame,Particle, Point)"
   ]
  },
  {
   "cell_type": "code",
   "execution_count": 2,
   "metadata": {},
   "outputs": [],
   "source": [
    "#I'm writing modified form functions to express the position of the end effector\n",
    "#using Denavit-Hartenberg matrices\n",
    "\n",
    "\n",
    "def Rotation(axis,angle):\n",
    "    Matrix=0        \n",
    "    if axis=='x':\n",
    "        Matrix=sp.Matrix([[1,0,0,0],\n",
    "                          [0,sp.cos(angle),-sp.sin(angle),0],\n",
    "                          [0,sp.sin(angle),sp.cos(angle),0],\n",
    "                          [0,0,0,1]])\n",
    "    \n",
    "    elif axis=='y':\n",
    "        Matrix=sp.Matrix([[sp.cos(angle),0,sp.sin(angle),0],\n",
    "                          [0,1,0,0],\n",
    "                          [-sp.sin(angle),0,sp.cos(angle),0],\n",
    "                          [0,0,0,1]])\n",
    "        \n",
    "    elif axis=='z':\n",
    "        Matrix=sp.Matrix([[sp.cos(angle),-sp.sin(angle),0,0],\n",
    "                          [sp.sin(angle),sp.cos(angle),0,0],\n",
    "                          [0,0,1,0],\n",
    "                          [0,0,0,1]])\n",
    "    return(Matrix)\n",
    "\n",
    "def Displace(vector):\n",
    "    Matrix=sp.Matrix([[1,0,0,vector[0]],\n",
    "                      [0,1,0,vector[1]],\n",
    "                      [0,0,1,vector[2]],\n",
    "                      [0,0,0,1]])\n",
    "    return(Matrix)\n",
    "\n",
    "def Parallel(Inertia,mass,r):\n",
    "    \"\"\"Inertia matrix, mass value, r vector (position)\"\"\"\n",
    "    skew=skew_symmetric(r)\n",
    "    Matrix=Inertia+mass*(skew.transpose()*skew)\n",
    "    return(sp.simplify(Matrix))\n",
    "                       \n",
    "def skew_symmetric(vector):\n",
    "    matrix=sp.Matrix([[0,-vector[2],vector[1]],\n",
    "                     [vector[2],0,-vector[0]],\n",
    "                     [-vector[1],vector[0],0]])\n",
    "    return(matrix)\n",
    "    \n",
    "\n",
    "def angular_velocity_inertial(Matrix):\n",
    "    Rotation_Matrix=Matrix[0:3,0:3]\n",
    "    matrix=diff(Rotation_Matrix,Symbol('t'))*Rotation_Matrix.transpose()\n",
    "    display(diff(Rotation_Matrix,Symbol('t')))\n",
    "    display(Rotation_Matrix.transpose())\n",
    "    display(sp.simplify(matrix))\n",
    "    vector=sp.Matrix([-matrix[1,2],matrix[0,2],-matrix[0,1]])\n",
    "    return(sp.simplify(vector))\n",
    "\n",
    "def Jacobian(Matrix,variables):\n",
    "    vector=Matrix[0:3,3]\n",
    "    variables=sp.Matrix([variables])\n",
    "    return(vector.jacobian(variables))\n",
    "    "
   ]
  },
  {
   "cell_type": "code",
   "execution_count": 3,
   "metadata": {},
   "outputs": [],
   "source": [
    "l1,l2=symbols('l_1,l2')\n",
    "theta1,theta2,h=dynamicsymbols('theta1,theta2,h')\n",
    "dtheta1,dtheta2,dh=sp.diff(theta1,Symbol('t')),sp.diff(theta2,Symbol('t')),sp.diff(h,Symbol('t'))\n",
    "ddtheta1,ddtheta2,ddh=sp.diff(dtheta1,Symbol('t')),sp.diff(dtheta2,Symbol('t')),sp.diff(dh,Symbol('t'))\n"
   ]
  },
  {
   "cell_type": "code",
   "execution_count": 4,
   "metadata": {},
   "outputs": [
    {
     "data": {
      "text/latex": [
       "$\\displaystyle \\left[\\begin{matrix}l_{2} \\left(\\operatorname{sin}\\left(\\theta_{1} + \\theta_{2}\\right) \\dot{\\theta}_{1}^{2} + 2 \\operatorname{sin}\\left(\\theta_{1} + \\theta_{2}\\right) \\dot{\\theta}_{1} \\dot{\\theta}_{2} + \\operatorname{sin}\\left(\\theta_{1} + \\theta_{2}\\right) \\dot{\\theta}_{2}^{2} - \\operatorname{cos}\\left(\\theta_{1} + \\theta_{2}\\right) \\ddot{\\theta}_{1} - \\operatorname{cos}\\left(\\theta_{1} + \\theta_{2}\\right) \\ddot{\\theta}_{2}\\right) - l_{1} \\operatorname{sin}\\left(\\theta_{1}\\right) \\ddot{\\theta}_{1} - l_{1} \\operatorname{cos}\\left(\\theta_{1}\\right) \\dot{\\theta}_{1}^{2} + h \\operatorname{sin}\\left(\\theta_{1}\\right) \\dot{\\theta}_{1}^{2} - h \\operatorname{cos}\\left(\\theta_{1}\\right) \\ddot{\\theta}_{1} - \\operatorname{sin}\\left(\\theta_{1}\\right) \\ddot{h} - 2 \\operatorname{cos}\\left(\\theta_{1}\\right) \\dot{h} \\dot{\\theta}_{1}\\\\- l_{2} \\left(\\operatorname{sin}\\left(\\theta_{1} + \\theta_{2}\\right) \\ddot{\\theta}_{1} + \\operatorname{sin}\\left(\\theta_{1} + \\theta_{2}\\right) \\ddot{\\theta}_{2} + \\operatorname{cos}\\left(\\theta_{1} + \\theta_{2}\\right) \\dot{\\theta}_{1}^{2} + 2 \\operatorname{cos}\\left(\\theta_{1} + \\theta_{2}\\right) \\dot{\\theta}_{1} \\dot{\\theta}_{2} + \\operatorname{cos}\\left(\\theta_{1} + \\theta_{2}\\right) \\dot{\\theta}_{2}^{2}\\right) - l_{1} \\operatorname{sin}\\left(\\theta_{1}\\right) \\dot{\\theta}_{1}^{2} + l_{1} \\operatorname{cos}\\left(\\theta_{1}\\right) \\ddot{\\theta}_{1} - h \\operatorname{sin}\\left(\\theta_{1}\\right) \\ddot{\\theta}_{1} - h \\operatorname{cos}\\left(\\theta_{1}\\right) \\dot{\\theta}_{1}^{2} - 2 \\operatorname{sin}\\left(\\theta_{1}\\right) \\dot{h} \\dot{\\theta}_{1} + \\operatorname{cos}\\left(\\theta_{1}\\right) \\ddot{h}\\\\0\\end{matrix}\\right]$"
      ],
      "text/plain": [
       "Matrix([\n",
       "[ l2*(sin(theta1 + theta2)*theta1'**2 + 2*sin(theta1 + theta2)*theta1'*theta2' + sin(theta1 + theta2)*theta2'**2 - cos(theta1 + theta2)*theta1'' - cos(theta1 + theta2)*theta2'') - l_1*sin(theta1)*theta1'' - l_1*cos(theta1)*theta1'**2 + h*sin(theta1)*theta1'**2 - h*cos(theta1)*theta1'' - sin(theta1)*h'' - 2*cos(theta1)*h'*theta1'],\n",
       "[-l2*(sin(theta1 + theta2)*theta1'' + sin(theta1 + theta2)*theta2'' + cos(theta1 + theta2)*theta1'**2 + 2*cos(theta1 + theta2)*theta1'*theta2' + cos(theta1 + theta2)*theta2'**2) - l_1*sin(theta1)*theta1'**2 + l_1*cos(theta1)*theta1'' - h*sin(theta1)*theta1'' - h*cos(theta1)*theta1'**2 - 2*sin(theta1)*h'*theta1' + cos(theta1)*h''],\n",
       "[                                                                                                                                                                                                                                                                                                                                        0]])"
      ]
     },
     "execution_count": 4,
     "metadata": {},
     "output_type": "execute_result"
    }
   ],
   "source": [
    "P=Rotation('z',theta1)*Displace([l1,0,0])*Displace([0,h,0])*Rotation('z',theta2)*Displace([0,l2,0])\n",
    "\n",
    "#General function to obtain the acceleration of the end effector (or any other known point in the arm)\n",
    "aP=sp.simplify(diff(P,Symbol('t'),2))[0:3,3]\n",
    "\n",
    "#Generation of function to evaluate the symbolic functions\n",
    "aP_lamb=sp.lambdify(([l1,l2],\n",
    "                     [theta1,h,theta2],\n",
    "                     [dtheta1,dh,dtheta2],\n",
    "                     [ddtheta1,ddh,ddtheta2]),aP)\n",
    "\n",
    "aP"
   ]
  },
  {
   "cell_type": "code",
   "execution_count": 5,
   "metadata": {},
   "outputs": [
    {
     "data": {
      "text/latex": [
       "$\\displaystyle \\left[\\begin{matrix}- \\operatorname{sin}\\left(\\theta_{1}\\right) \\ddot{\\theta}_{1} - \\operatorname{cos}\\left(\\theta_{1}\\right) \\dot{\\theta}_{1}^{2}\\\\- \\operatorname{sin}\\left(\\theta_{1}\\right) \\dot{\\theta}_{1}^{2} + \\operatorname{cos}\\left(\\theta_{1}\\right) \\ddot{\\theta}_{1}\\\\0\\end{matrix}\\right]$"
      ],
      "text/plain": [
       "Matrix([\n",
       "[-sin(theta1)*theta1'' - cos(theta1)*theta1'**2],\n",
       "[-sin(theta1)*theta1'**2 + cos(theta1)*theta1''],\n",
       "[                                             0]])"
      ]
     },
     "metadata": {},
     "output_type": "display_data"
    },
    {
     "data": {
      "text/latex": [
       "$\\displaystyle \\left[\\begin{matrix}h \\operatorname{sin}\\left(\\theta_{1}\\right) \\dot{\\theta}_{1}^{2} - h \\operatorname{cos}\\left(\\theta_{1}\\right) \\ddot{\\theta}_{1} - \\operatorname{sin}\\left(\\theta_{1}\\right) \\ddot{h} - \\operatorname{sin}\\left(\\theta_{1}\\right) \\ddot{\\theta}_{1} - 2 \\operatorname{cos}\\left(\\theta_{1}\\right) \\dot{h} \\dot{\\theta}_{1} - \\operatorname{cos}\\left(\\theta_{1}\\right) \\dot{\\theta}_{1}^{2}\\\\- h \\operatorname{sin}\\left(\\theta_{1}\\right) \\ddot{\\theta}_{1} - h \\operatorname{cos}\\left(\\theta_{1}\\right) \\dot{\\theta}_{1}^{2} - 2 \\operatorname{sin}\\left(\\theta_{1}\\right) \\dot{h} \\dot{\\theta}_{1} - \\operatorname{sin}\\left(\\theta_{1}\\right) \\dot{\\theta}_{1}^{2} + \\operatorname{cos}\\left(\\theta_{1}\\right) \\ddot{h} + \\operatorname{cos}\\left(\\theta_{1}\\right) \\ddot{\\theta}_{1}\\\\0\\end{matrix}\\right]$"
      ],
      "text/plain": [
       "Matrix([\n",
       "[ h*sin(theta1)*theta1'**2 - h*cos(theta1)*theta1'' - sin(theta1)*h'' - sin(theta1)*theta1'' - 2*cos(theta1)*h'*theta1' - cos(theta1)*theta1'**2],\n",
       "[-h*sin(theta1)*theta1'' - h*cos(theta1)*theta1'**2 - 2*sin(theta1)*h'*theta1' - sin(theta1)*theta1'**2 + cos(theta1)*h'' + cos(theta1)*theta1''],\n",
       "[                                                                                                                                              0]])"
      ]
     },
     "metadata": {},
     "output_type": "display_data"
    },
    {
     "data": {
      "text/latex": [
       "$\\displaystyle \\left[\\begin{matrix}h \\operatorname{sin}\\left(\\theta_{1}\\right) \\dot{\\theta}_{1}^{2} - h \\operatorname{cos}\\left(\\theta_{1}\\right) \\ddot{\\theta}_{1} + \\operatorname{sin}\\left(\\theta_{1} + \\theta_{2}\\right) \\dot{\\theta}_{1}^{2} + 2 \\operatorname{sin}\\left(\\theta_{1} + \\theta_{2}\\right) \\dot{\\theta}_{1} \\dot{\\theta}_{2} + \\operatorname{sin}\\left(\\theta_{1} + \\theta_{2}\\right) \\dot{\\theta}_{2}^{2} - \\operatorname{sin}\\left(\\theta_{1}\\right) \\ddot{h} - \\operatorname{sin}\\left(\\theta_{1}\\right) \\ddot{\\theta}_{1} - \\operatorname{cos}\\left(\\theta_{1} + \\theta_{2}\\right) \\ddot{\\theta}_{1} - \\operatorname{cos}\\left(\\theta_{1} + \\theta_{2}\\right) \\ddot{\\theta}_{2} - 2 \\operatorname{cos}\\left(\\theta_{1}\\right) \\dot{h} \\dot{\\theta}_{1} - \\operatorname{cos}\\left(\\theta_{1}\\right) \\dot{\\theta}_{1}^{2}\\\\- h \\operatorname{sin}\\left(\\theta_{1}\\right) \\ddot{\\theta}_{1} - h \\operatorname{cos}\\left(\\theta_{1}\\right) \\dot{\\theta}_{1}^{2} - \\operatorname{sin}\\left(\\theta_{1} + \\theta_{2}\\right) \\ddot{\\theta}_{1} - \\operatorname{sin}\\left(\\theta_{1} + \\theta_{2}\\right) \\ddot{\\theta}_{2} - 2 \\operatorname{sin}\\left(\\theta_{1}\\right) \\dot{h} \\dot{\\theta}_{1} - \\operatorname{sin}\\left(\\theta_{1}\\right) \\dot{\\theta}_{1}^{2} - \\operatorname{cos}\\left(\\theta_{1} + \\theta_{2}\\right) \\dot{\\theta}_{1}^{2} - 2 \\operatorname{cos}\\left(\\theta_{1} + \\theta_{2}\\right) \\dot{\\theta}_{1} \\dot{\\theta}_{2} - \\operatorname{cos}\\left(\\theta_{1} + \\theta_{2}\\right) \\dot{\\theta}_{2}^{2} + \\operatorname{cos}\\left(\\theta_{1}\\right) \\ddot{h} + \\operatorname{cos}\\left(\\theta_{1}\\right) \\ddot{\\theta}_{1}\\\\0\\end{matrix}\\right]$"
      ],
      "text/plain": [
       "Matrix([\n",
       "[ h*sin(theta1)*theta1'**2 - h*cos(theta1)*theta1'' + sin(theta1 + theta2)*theta1'**2 + 2*sin(theta1 + theta2)*theta1'*theta2' + sin(theta1 + theta2)*theta2'**2 - sin(theta1)*h'' - sin(theta1)*theta1'' - cos(theta1 + theta2)*theta1'' - cos(theta1 + theta2)*theta2'' - 2*cos(theta1)*h'*theta1' - cos(theta1)*theta1'**2],\n",
       "[-h*sin(theta1)*theta1'' - h*cos(theta1)*theta1'**2 - sin(theta1 + theta2)*theta1'' - sin(theta1 + theta2)*theta2'' - 2*sin(theta1)*h'*theta1' - sin(theta1)*theta1'**2 - cos(theta1 + theta2)*theta1'**2 - 2*cos(theta1 + theta2)*theta1'*theta2' - cos(theta1 + theta2)*theta2'**2 + cos(theta1)*h'' + cos(theta1)*theta1''],\n",
       "[                                                                                                                                                                                                                                                                                                                           0]])"
      ]
     },
     "metadata": {},
     "output_type": "display_data"
    }
   ],
   "source": [
    "P=Rotation('z',theta1)*Displace([1,0,0])#*Displace([0,h,0])*Rotation('z',theta2)*Displace([0,l2,0])\n",
    "\n",
    "#General function to obtain the acceleration of the end effector (or any other known point in the arm)\n",
    "aP=sp.simplify(diff(P,Symbol('t'),2))[0:3,3]\n",
    "display(aP)\n",
    "\n",
    "P=Rotation('z',theta1)*Displace([1,0,0])*Displace([0,h,0])#*Rotation('z',theta2)*Displace([0,l2,0])\n",
    "\n",
    "#General function to obtain the acceleration of the end effector (or any other known point in the arm)\n",
    "aP=sp.simplify(diff(P,Symbol('t'),2))[0:3,3]\n",
    "display(aP)\n",
    "\n",
    "P=Rotation('z',theta1)*Displace([1,0,0])*Displace([0,h,0])*Rotation('z',theta2)*Displace([0,1,0])\n",
    "\n",
    "#General function to obtain the acceleration of the end effector (or any other known point in the arm)\n",
    "aP=sp.simplify(diff(P,Symbol('t'),2))[0:3,3]\n",
    "display(aP)"
   ]
  },
  {
   "cell_type": "code",
   "execution_count": 6,
   "metadata": {},
   "outputs": [
    {
     "data": {
      "text/plain": [
       "'F3: '"
      ]
     },
     "metadata": {},
     "output_type": "display_data"
    },
    {
     "data": {
      "text/latex": [
       "$\\displaystyle \\left[\\begin{matrix}- 1.0 h \\ddot{\\theta}_{1} - 2.0 \\dot{h} \\dot{\\theta}_{1} - 1.0 \\dot{\\theta}_{1}^{2} - 0.5 \\ddot{\\theta}_{1} - 0.5 \\ddot{\\theta}_{2}\\\\- 1.0 h \\dot{\\theta}_{1}^{2} + 1.0 \\ddot{h} - 0.5 \\dot{\\theta}_{1}^{2} - 1.0 \\dot{\\theta}_{1} \\dot{\\theta}_{2} + 1.0 \\ddot{\\theta}_{1} - 0.5 \\dot{\\theta}_{2}^{2}\\\\0\\end{matrix}\\right]$"
      ],
      "text/plain": [
       "Matrix([\n",
       "[                   -1.0*h*theta1'' - 2.0*h'*theta1' - 1.0*theta1'**2 - 0.5*theta1'' - 0.5*theta2''],\n",
       "[-1.0*h*theta1'**2 + 1.0*h'' - 0.5*theta1'**2 - 1.0*theta1'*theta2' + 1.0*theta1'' - 0.5*theta2'**2],\n",
       "[                                                                                                 0]])"
      ]
     },
     "metadata": {},
     "output_type": "display_data"
    },
    {
     "data": {
      "text/plain": [
       "'F2: '"
      ]
     },
     "metadata": {},
     "output_type": "display_data"
    },
    {
     "data": {
      "text/latex": [
       "$\\displaystyle \\left[\\begin{matrix}- 1.25 h \\ddot{\\theta}_{1} - 3.0 \\dot{h} \\dot{\\theta}_{1} - 1.5 \\dot{\\theta}_{1}^{2} - 0.5 \\ddot{\\theta}_{1} - 0.5 \\ddot{\\theta}_{2}\\\\- 1.25 h \\dot{\\theta}_{1}^{2} + 1.5 \\ddot{h} - 0.5 \\dot{\\theta}_{1}^{2} - 1.0 \\dot{\\theta}_{1} \\dot{\\theta}_{2} + 1.5 \\ddot{\\theta}_{1} - 0.5 \\dot{\\theta}_{2}^{2}\\\\0\\end{matrix}\\right]$"
      ],
      "text/plain": [
       "Matrix([\n",
       "[                   -1.25*h*theta1'' - 3.0*h'*theta1' - 1.5*theta1'**2 - 0.5*theta1'' - 0.5*theta2''],\n",
       "[-1.25*h*theta1'**2 + 1.5*h'' - 0.5*theta1'**2 - 1.0*theta1'*theta2' + 1.5*theta1'' - 0.5*theta2'**2],\n",
       "[                                                                                                  0]])"
      ]
     },
     "metadata": {},
     "output_type": "display_data"
    },
    {
     "data": {
      "text/plain": [
       "'F1: '"
      ]
     },
     "metadata": {},
     "output_type": "display_data"
    },
    {
     "data": {
      "text/latex": [
       "$\\displaystyle \\left[\\begin{matrix}- 1.25 h \\ddot{\\theta}_{1} - 3.0 \\dot{h} \\dot{\\theta}_{1} - 2.0 \\dot{\\theta}_{1}^{2} - 0.5 \\ddot{\\theta}_{1} - 0.5 \\ddot{\\theta}_{2}\\\\- 1.25 h \\dot{\\theta}_{1}^{2} + 1.5 \\ddot{h} - 0.5 \\dot{\\theta}_{1}^{2} - 1.0 \\dot{\\theta}_{1} \\dot{\\theta}_{2} + 2.0 \\ddot{\\theta}_{1} - 0.5 \\dot{\\theta}_{2}^{2}\\\\0\\end{matrix}\\right]$"
      ],
      "text/plain": [
       "Matrix([\n",
       "[                   -1.25*h*theta1'' - 3.0*h'*theta1' - 2.0*theta1'**2 - 0.5*theta1'' - 0.5*theta2''],\n",
       "[-1.25*h*theta1'**2 + 1.5*h'' - 0.5*theta1'**2 - 1.0*theta1'*theta2' + 2.0*theta1'' - 0.5*theta2'**2],\n",
       "[                                                                                                  0]])"
      ]
     },
     "metadata": {},
     "output_type": "display_data"
    }
   ],
   "source": [
    "                  \"\"\"[l1,l2],\n",
    "                     [theta1,h,theta2],\n",
    "                     [dtheta1,dh,dtheta2],\n",
    "                     [ddtheta1,ddh,ddtheta2]\"\"\"\n",
    "\n",
    "#accelerations of the center of mass of link 1\n",
    "a_C1=sp.Matrix(aP_lamb([0.5,0],\n",
    "                  [0,0,0],\n",
    "                  [dtheta1,0,0],\n",
    "                  [ddtheta1,0,0]))\n",
    "\n",
    "#accelerations of the center of mass of link 2\n",
    "a_C2=sp.Matrix(aP_lamb([1,0],\n",
    "                  [0,h/2,0],\n",
    "                  [dtheta1,dh,0],\n",
    "                  [ddtheta1,ddh,0]))\n",
    "\n",
    "#accelerations of the center of mass of link 3\n",
    "a_C3=sp.Matrix(aP_lamb([1,0.5],\n",
    "                  [0,h,0],\n",
    "                  [dtheta1,dh,dtheta2],\n",
    "                  [ddtheta1,ddh,ddtheta2]))\n",
    "\n",
    "#masses\n",
    "m1,m2,m3=1,0.5,1\n",
    "\n",
    "F3=m3*a_C3\n",
    "F2=m2*a_C2+m3*a_C3\n",
    "F1=m1*a_C1+m2*a_C2+m3*a_C3\n",
    "\n",
    "display('F3: ',F3,'F2: ',F2,'F1: ',F1)"
   ]
  },
  {
   "cell_type": "code",
   "execution_count": 7,
   "metadata": {},
   "outputs": [
    {
     "data": {
      "text/plain": [
       "'Tau3: '"
      ]
     },
     "metadata": {},
     "output_type": "display_data"
    },
    {
     "data": {
      "text/latex": [
       "$\\displaystyle \\left[\\begin{matrix}0\\\\0\\\\0.5 h \\ddot{\\theta}_{1} + 1.0 \\dot{h} \\dot{\\theta}_{1} + 0.5 \\dot{\\theta}_{1}^{2} + 0.35 \\ddot{\\theta}_{1} + 0.35 \\ddot{\\theta}_{2}\\end{matrix}\\right]$"
      ],
      "text/plain": [
       "Matrix([\n",
       "[                                                                               0],\n",
       "[                                                                               0],\n",
       "[0.5*h*theta1'' + 1.0*h'*theta1' + 0.5*theta1'**2 + 0.35*theta1'' + 0.35*theta2'']])"
      ]
     },
     "metadata": {},
     "output_type": "display_data"
    },
    {
     "data": {
      "text/plain": [
       "'Tau2: '"
      ]
     },
     "metadata": {},
     "output_type": "display_data"
    },
    {
     "data": {
      "text/latex": [
       "$\\displaystyle \\left[\\begin{matrix}0\\\\0\\\\- \\frac{\\left(- 1.25 h \\ddot{\\theta}_{1} - 3.0 \\dot{h} \\dot{\\theta}_{1} - 1.5 \\dot{\\theta}_{1}^{2} - 0.5 \\ddot{\\theta}_{1} - 0.5 \\ddot{\\theta}_{2}\\right) h}{2} + 1.0 h \\ddot{\\theta}_{1} + 2.0 \\dot{h} \\dot{\\theta}_{1} + 1.0 \\dot{\\theta}_{1}^{2} + 0.65 \\ddot{\\theta}_{1} + 0.6 \\ddot{\\theta}_{2}\\end{matrix}\\right]$"
      ],
      "text/plain": [
       "Matrix([\n",
       "[                                                                                                                                                                        0],\n",
       "[                                                                                                                                                                        0],\n",
       "[-(-1.25*h*theta1'' - 3.0*h'*theta1' - 1.5*theta1'**2 - 0.5*theta1'' - 0.5*theta2'')*h/2 + 1.0*h*theta1'' + 2.0*h'*theta1' + 1.0*theta1'**2 + 0.65*theta1'' + 0.6*theta2'']])"
      ]
     },
     "metadata": {},
     "output_type": "display_data"
    },
    {
     "data": {
      "text/plain": [
       "'Tau1: '"
      ]
     },
     "metadata": {},
     "output_type": "display_data"
    },
    {
     "data": {
      "text/latex": [
       "$\\displaystyle \\left[\\begin{matrix}0\\\\0\\\\- \\left(- 1.25 h \\ddot{\\theta}_{1} - 3.0 \\dot{h} \\dot{\\theta}_{1} - 1.5 \\dot{\\theta}_{1}^{2} - 0.5 \\ddot{\\theta}_{1} - 0.5 \\ddot{\\theta}_{2}\\right) h - 0.625 h \\dot{\\theta}_{1}^{2} + 1.0 h \\ddot{\\theta}_{1} + 2.0 \\dot{h} \\dot{\\theta}_{1} + 0.75 \\ddot{h} + 0.75 \\dot{\\theta}_{1}^{2} - 0.5 \\dot{\\theta}_{1} \\dot{\\theta}_{2} + 1.75 \\ddot{\\theta}_{1} - 0.25 \\dot{\\theta}_{2}^{2} + 0.6 \\ddot{\\theta}_{2}\\end{matrix}\\right]$"
      ],
      "text/plain": [
       "Matrix([\n",
       "[                                                                                                                                                                                                                                               0],\n",
       "[                                                                                                                                                                                                                                               0],\n",
       "[-(-1.25*h*theta1'' - 3.0*h'*theta1' - 1.5*theta1'**2 - 0.5*theta1'' - 0.5*theta2'')*h - 0.625*h*theta1'**2 + 1.0*h*theta1'' + 2.0*h'*theta1' + 0.75*h'' + 0.75*theta1'**2 - 0.5*theta1'*theta2' + 1.75*theta1'' - 0.25*theta2'**2 + 0.6*theta2'']])"
      ]
     },
     "metadata": {},
     "output_type": "display_data"
    }
   ],
   "source": [
    "I1,I2,I3=0.1,0.05,0.1\n",
    "\n",
    "#Vectors of angular velocities\n",
    "w1,w2,w3=sp.Matrix([[0],[0],[dtheta1]]),sp.Matrix([[0],[0],[dtheta1]]),sp.Matrix([[0],[0],[dtheta1+dtheta2]])\n",
    "\n",
    "#Vector of angular accelerations\n",
    "dw1,dw2,dw3=sp.diff(w1,Symbol('t')),sp.diff(w2,Symbol('t')),sp.diff(w3,Symbol('t'))\n",
    "\n",
    "#Vector of position r_(i,ci) (from next joint to center of mass)\n",
    "r1,r2,r3=sp.Matrix([[-0.5],[0],[0]]),sp.Matrix([[0],[-h/2],[0]]),sp.Matrix([[0],[-0.5],[0]])\n",
    "\n",
    "#Vector of position r_(i-1,ci) (From previous joint to center of mass)\n",
    "r1_,r2_,r3_=sp.Matrix([[0.5],[0],[0]]),sp.Matrix([[0],[h/2],[0]]),sp.Matrix([[0],[0.5],[0]])\n",
    "\n",
    "Tau3=I3*dw3+w3.cross(I3*w3)-(F3.cross(r3_))\n",
    "\n",
    "Tau2=I2*dw2+w2.cross(I2*w2)-(F2.cross(r2_)-F3.cross(r3))+Tau3\n",
    "\n",
    "Tau1=I1*dw1+w1.cross(I1*w1)-(F1.cross(r1_)-F2.cross(r2))+Tau2\n",
    "\n",
    "display('Tau3: ',Tau3,'Tau2: ',Tau2,'Tau1: ',Tau1)\n"
   ]
  },
  {
   "cell_type": "code",
   "execution_count": null,
   "metadata": {
    "scrolled": true
   },
   "outputs": [],
   "source": []
  },
  {
   "cell_type": "code",
   "execution_count": null,
   "metadata": {},
   "outputs": [],
   "source": []
  }
 ],
 "metadata": {
  "kernelspec": {
   "display_name": "Python 3",
   "language": "python",
   "name": "python3"
  },
  "language_info": {
   "codemirror_mode": {
    "name": "ipython",
    "version": 3
   },
   "file_extension": ".py",
   "mimetype": "text/x-python",
   "name": "python",
   "nbconvert_exporter": "python",
   "pygments_lexer": "ipython3",
   "version": "3.8.3"
  }
 },
 "nbformat": 4,
 "nbformat_minor": 4
}
